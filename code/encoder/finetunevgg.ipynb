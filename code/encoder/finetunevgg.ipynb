{
  "nbformat": 4,
  "nbformat_minor": 0,
  "metadata": {
    "colab": {
      "name": "finetunevgg.ipynb",
      "provenance": []
    },
    "kernelspec": {
      "name": "python3",
      "display_name": "Python 3"
    },
    "accelerator": "GPU"
  },
  "cells": [
    {
      "metadata": {
        "id": "ftyyfcnFS4_r"
      },
      "cell_type": "code",
      "source": [
        "!pip install -U -q PyDrive\n",
        "from pydrive.auth import GoogleAuth\n",
        "from pydrive.drive import GoogleDrive\n",
        "from google.colab import auth\n",
        "from oauth2client.client import GoogleCredentials\n",
        "\n",
        "# 1. Authenticate and create the PyDrive client.\n",
        "auth.authenticate_user()\n",
        "gauth = GoogleAuth()\n",
        "gauth.credentials = GoogleCredentials.get_application_default()\n",
        "drive = GoogleDrive(gauth)"
      ],
      "execution_count": null,
      "outputs": []
    },
    {
      "metadata": {
        "id": "Rw9r59SdQxC0",
        "outputId": "1040dc48-3943-4a9a-eaab-1824c33aa5d0",
        "colab": {
          "base_uri": "https://localhost:8080/",
          "height": 34
        }
      },
      "cell_type": "code",
      "source": [
        "from google.colab import drive\n",
        "drive.mount('/content/drive')"
      ],
      "execution_count": null,
      "outputs": [
        {
          "output_type": "stream",
          "text": [
            "Drive already mounted at /content/drive; to attempt to forcibly remount, call drive.mount(\"/content/drive\", force_remount=True).\n"
          ],
          "name": "stdout"
        }
      ]
    },
    {
      "metadata": {
        "id": "lvxKEnHiS7Tj",
        "outputId": "ce6ba947-eb4a-4cb7-cba9-5704e47e8c0a",
        "colab": {
          "base_uri": "https://localhost:8080/",
          "height": 34
        }
      },
      "cell_type": "code",
      "source": [
        "%cd \"/content/drive/My Drive/fine_tune_myself\""
      ],
      "execution_count": null,
      "outputs": [
        {
          "output_type": "stream",
          "text": [
            "/content/drive/My Drive/fine_tune_myself\n"
          ],
          "name": "stdout"
        }
      ]
    },
    {
      "metadata": {
        "id": "oOYCLzDfS_wc",
        "outputId": "2031404a-eed9-46c8-fcc2-73995003c8eb",
        "colab": {
          "base_uri": "https://localhost:8080/",
          "height": 34
        }
      },
      "cell_type": "code",
      "source": [
        "# -*- coding: utf-8 -*-\n",
        "\"\"\"\n",
        "Created on Sat Feb 23 21:38:45 2019\n",
        "\n",
        "@author: ghrit\n",
        "\"\"\"\n",
        "from keras.utils import plot_model\n",
        "from keras.optimizers import SGD\n",
        "from os import listdir\n",
        "import numpy as np\n",
        "from keras.applications.vgg16 import VGG16\n",
        "from keras.preprocessing.image import load_img\n",
        "from keras.preprocessing.image import img_to_array\n",
        "from keras.applications.vgg16 import preprocess_input\n",
        "from keras.layers import Dense,Flatten,Dropout\n",
        "from keras.models import Sequential, Model\n",
        "from pickle import load\n",
        "from keras.layers import Input\n",
        "\n",
        "\n",
        "\n",
        "def load_doc(filename):\n",
        "\t# open the file as read only\n",
        "\tfile = open(filename, 'r')\n",
        "\t# read all text\n",
        "\ttext = file.read()\n",
        "\t# close the file\n",
        "\tfile.close()\n",
        "\treturn text\n",
        " \n",
        "def tr_genr(directory, targets,dset):\n",
        "    while 1:\n",
        "        for name in dset:\n",
        "            filename = directory + '/' + name + \".jpg\"\n",
        "            image = load_img(filename, target_size=(224, 224))\n",
        "            image = img_to_array(image)\n",
        "            image= image.reshape((1, image.shape[0], image.shape[1], image.shape[2]))\n",
        "            image= preprocess_input(image)\n",
        "            y = np.array(targets[name]).reshape(1,300)\n",
        "            x = np.array(image)\n",
        "            yield [x,y]\n",
        "\n",
        "# load a pre-defined list of photo identifiers\n",
        "            \n",
        "def load_set(filename):\n",
        "\tdoc = load_doc(filename)\n",
        "\tdataset = list()\n",
        "\t# process line by line\n",
        "\tfor line in doc.split('\\n'):\n",
        "\t\t# skip empty lines\n",
        "\t\tif len(line) < 1:\n",
        "\t\t\tcontinue\n",
        "\t\t# get the image identifier\n",
        "\t\tidentifier = line.split('.')[0]\n",
        "\t\tdataset.append(identifier)\n",
        "\treturn list(set(dataset))\n",
        "\n",
        "def load_targets(fn,dset):\n",
        "    targets = load(open(fn, 'rb'))\n",
        "    # filter features\n",
        "    targets = {k: targets[k] for k in dset}\n",
        "    return targets\n",
        "  \n",
        "  \n",
        "def get_initialized_vgg(gen, old_model):\n",
        "    old_model.layers.pop()\n",
        "    x= old_model.layers[-1].output\n",
        "\n",
        "    final = Dense(300, activation='sigmoid')(x)\n",
        "    model = Model(inputs= old_model.input, outputs= final)\n",
        "    plot_model(model, to_file='vgg2model.png',show_shapes=True)\n",
        "    # freeze pre-trained model area's layer\n",
        "    for layer in old_model.layers:\n",
        "        layer.trainable = False\n",
        "\n",
        "    # update the weight that are added\n",
        "    model.compile(optimizer='rmsprop', loss='binary_crossentropy')\n",
        "    model.fit_generator(gen,steps_per_epoch=6000)\n",
        "    return model\n",
        "  \n",
        "  \n",
        "def train_vgg(gen,te_gen,model):\n",
        "    # set the first 25 layers (up to the last conv block)\n",
        "    # to non-trainable (weights will not be updated)\n",
        "    for layer in model.layers[:21]:\n",
        "        layer.trainable = False\n",
        "    for layer in model.layers[21:]:\n",
        "        layer.trainable = True\n",
        "        \n",
        "    sgd = SGD(lr=1e-3, decay=1e-6, momentum=0.9)\n",
        "    model.compile(optimizer=sgd, loss='binary_crossentropy',  \n",
        "                  metrics=['binary_accuracy','categorical_accuracy'])    \n",
        "    history = model.fit_generator(gen,steps_per_epoch=6000, epochs=5,\n",
        "                                  validation_data=te_gen,validation_steps=1000)\n",
        "    return model  ,history  \n",
        "\n"
      ],
      "execution_count": null,
      "outputs": [
        {
          "output_type": "stream",
          "text": [
            "Using TensorFlow backend.\n"
          ],
          "name": "stderr"
        }
      ]
    },
    {
      "metadata": {
        "id": "ZNqoSL0pS_0B",
        "outputId": "3e6bd350-4148-40f7-d848-2f8f1a2dc8ac",
        "colab": {
          "base_uri": "https://localhost:8080/",
          "height": 139
        }
      },
      "cell_type": "code",
      "source": [
        "directory='/content/drive/My Drive/Multi-label-Inception-net/image/images'\n",
        "input_tensor = Input(shape=(224,224,3))\n",
        "vggmodel = VGG16(weights='imagenet', include_top=True,input_tensor=input_tensor)\n",
        "plot_model(vggmodel,to_file='vgg_orig.png',show_shapes=True)\n",
        "'''\n",
        "train = load_set('Flickr_8k.trainImages.txt')\n",
        "tr_targets=load_targets(\"targets300.pkl\",train[:])\n",
        "tr_gen=tr_genr(directory,tr_targets,train[:])\n",
        "\n",
        "test =load_set('Flickr_8k.testImages.txt')\n",
        "te_targets=load_targets(\"targets300.pkl\",test)\n",
        "te_gen=tr_genr('/content/drive/My Drive/Multi-label-Inception-net/testim',te_targets,test)'''"
      ],
      "execution_count": null,
      "outputs": [
        {
          "output_type": "stream",
          "text": [
            "WARNING:tensorflow:From /usr/local/lib/python3.6/dist-packages/tensorflow/python/framework/op_def_library.py:263: colocate_with (from tensorflow.python.framework.ops) is deprecated and will be removed in a future version.\n",
            "Instructions for updating:\n",
            "Colocations handled automatically by placer.\n",
            "Downloading data from https://github.com/fchollet/deep-learning-models/releases/download/v0.1/vgg16_weights_tf_dim_ordering_tf_kernels.h5\n",
            "553467904/553467096 [==============================] - 6s 0us/step\n"
          ],
          "name": "stdout"
        },
        {
          "output_type": "execute_result",
          "data": {
            "text/plain": [
              "'\\ntrain = load_set(\\'Flickr_8k.trainImages.txt\\')\\ntr_targets=load_targets(\"targets300.pkl\",train[:])\\ntr_gen=tr_genr(directory,tr_targets,train[:])\\n\\ntest =load_set(\\'Flickr_8k.testImages.txt\\')\\nte_targets=load_targets(\"targets300.pkl\",test)\\nte_gen=tr_genr(\\'/content/drive/My Drive/Multi-label-Inception-net/testim\\',te_targets,test)'"
            ]
          },
          "metadata": {
            "tags": []
          },
          "execution_count": 3
        }
      ]
    },
    {
      "metadata": {
        "id": "K73C2ytwTJYY",
        "outputId": "319211ed-df6c-4579-b1c5-c390a7b48806",
        "colab": {
          "base_uri": "https://localhost:8080/",
          "height": 51
        }
      },
      "cell_type": "code",
      "source": [
        "model = get_initialized_vgg(tr_gen, vggmodel)\n"
      ],
      "execution_count": null,
      "outputs": [
        {
          "output_type": "stream",
          "text": [
            "Epoch 1/1\n",
            "6000/6000 [==============================] - 189s 31ms/step - loss: 0.3159\n"
          ],
          "name": "stdout"
        }
      ]
    },
    {
      "metadata": {
        "id": "sK6GGYy3USiP",
        "outputId": "2a4b0654-3655-4043-b50a-d46fcd96e3ce",
        "colab": {
          "base_uri": "https://localhost:8080/",
          "height": 187
        }
      },
      "cell_type": "code",
      "source": [
        "model,hist= train_vgg(tr_gen,te_gen,model)"
      ],
      "execution_count": null,
      "outputs": [
        {
          "output_type": "stream",
          "text": [
            "Epoch 1/5\n",
            "6000/6000 [==============================] - 256s 43ms/step - loss: 0.1266 - binary_accuracy: 0.9682 - categorical_accuracy: 0.3500 - val_loss: 0.1094 - val_binary_accuracy: 0.9676 - val_categorical_accuracy: 0.3600\n",
            "Epoch 2/5\n",
            "6000/6000 [==============================] - 253s 42ms/step - loss: 0.0899 - binary_accuracy: 0.9729 - categorical_accuracy: 0.4207 - val_loss: 0.1072 - val_binary_accuracy: 0.9681 - val_categorical_accuracy: 0.3710\n",
            "Epoch 3/5\n",
            "6000/6000 [==============================] - 253s 42ms/step - loss: 0.0779 - binary_accuracy: 0.9760 - categorical_accuracy: 0.4345 - val_loss: 0.1068 - val_binary_accuracy: 0.9683 - val_categorical_accuracy: 0.3720\n",
            "Epoch 4/5\n",
            "6000/6000 [==============================] - 251s 42ms/step - loss: 0.0692 - binary_accuracy: 0.9785 - categorical_accuracy: 0.4472 - val_loss: 0.1069 - val_binary_accuracy: 0.9683 - val_categorical_accuracy: 0.3800\n",
            "Epoch 5/5\n",
            "6000/6000 [==============================] - 251s 42ms/step - loss: 0.0623 - binary_accuracy: 0.9806 - categorical_accuracy: 0.4538 - val_loss: 0.1072 - val_binary_accuracy: 0.9682 - val_categorical_accuracy: 0.3790\n"
          ],
          "name": "stdout"
        }
      ]
    },
    {
      "metadata": {
        "id": "e34ZKxVV1fa2"
      },
      "cell_type": "code",
      "source": [
        "model.save(\"ftv3004096_1.h5\")"
      ],
      "execution_count": null,
      "outputs": []
    },
    {
      "metadata": {
        "id": "AiT-cwp561kD",
        "outputId": "36022b57-6cb8-49eb-b76c-7cca88bdf8c2",
        "colab": {
          "base_uri": "https://localhost:8080/",
          "height": 33
        }
      },
      "cell_type": "code",
      "source": [
        "import keras\n",
        "print(keras.__version__)"
      ],
      "execution_count": null,
      "outputs": [
        {
          "output_type": "stream",
          "text": [
            "2.2.4\n"
          ],
          "name": "stdout"
        }
      ]
    },
    {
      "metadata": {
        "id": "3sgwP0g1-4e_",
        "outputId": "320f1b43-80fd-4afd-f5a2-a8ac86b8eb71",
        "colab": {
          "base_uri": "https://localhost:8080/",
          "height": 187
        }
      },
      "cell_type": "code",
      "source": [
        "model,hist= train_vgg(tr_gen,te_gen,model)"
      ],
      "execution_count": null,
      "outputs": [
        {
          "output_type": "stream",
          "text": [
            "Epoch 1/5\n",
            "6000/6000 [==============================] - 251s 42ms/step - loss: 0.0564 - binary_accuracy: 0.9826 - categorical_accuracy: 0.4533 - val_loss: 0.1078 - val_binary_accuracy: 0.9678 - val_categorical_accuracy: 0.3710\n",
            "Epoch 2/5\n",
            "6000/6000 [==============================] - 250s 42ms/step - loss: 0.0512 - binary_accuracy: 0.9843 - categorical_accuracy: 0.4533 - val_loss: 0.1085 - val_binary_accuracy: 0.9678 - val_categorical_accuracy: 0.3650\n",
            "Epoch 3/5\n",
            "6000/6000 [==============================] - 250s 42ms/step - loss: 0.0466 - binary_accuracy: 0.9859 - categorical_accuracy: 0.4508 - val_loss: 0.1093 - val_binary_accuracy: 0.9678 - val_categorical_accuracy: 0.3660\n",
            "Epoch 4/5\n",
            "6000/6000 [==============================] - 250s 42ms/step - loss: 0.0425 - binary_accuracy: 0.9873 - categorical_accuracy: 0.4480 - val_loss: 0.1103 - val_binary_accuracy: 0.9678 - val_categorical_accuracy: 0.3680\n",
            "Epoch 5/5\n",
            "6000/6000 [==============================] - 250s 42ms/step - loss: 0.0388 - binary_accuracy: 0.9886 - categorical_accuracy: 0.4497 - val_loss: 0.1113 - val_binary_accuracy: 0.9678 - val_categorical_accuracy: 0.3690\n"
          ],
          "name": "stdout"
        }
      ]
    },
    {
      "metadata": {
        "id": "xj-9x2Ht-42E"
      },
      "cell_type": "code",
      "source": [
        "model.save(\"ftv3004096_2.h5\")"
      ],
      "execution_count": null,
      "outputs": []
    },
    {
      "metadata": {
        "id": "d4gJNEQk8zh-",
        "outputId": "48610d0b-790d-4f4a-e60f-590b5579234a",
        "colab": {
          "base_uri": "https://localhost:8080/",
          "height": 187
        }
      },
      "cell_type": "code",
      "source": [
        "model,hist= train_vgg(tr_gen,te_gen,model)"
      ],
      "execution_count": null,
      "outputs": [
        {
          "output_type": "stream",
          "text": [
            "Epoch 1/5\n",
            "6000/6000 [==============================] - 251s 42ms/step - loss: 0.0355 - binary_accuracy: 0.9897 - categorical_accuracy: 0.4493 - val_loss: 0.1123 - val_binary_accuracy: 0.9676 - val_categorical_accuracy: 0.3660\n",
            "Epoch 2/5\n",
            "6000/6000 [==============================] - 249s 42ms/step - loss: 0.0325 - binary_accuracy: 0.9909 - categorical_accuracy: 0.4500 - val_loss: 0.1137 - val_binary_accuracy: 0.9676 - val_categorical_accuracy: 0.3750\n",
            "Epoch 3/5\n",
            "6000/6000 [==============================] - 249s 42ms/step - loss: 0.0297 - binary_accuracy: 0.9919 - categorical_accuracy: 0.4485 - val_loss: 0.1151 - val_binary_accuracy: 0.9677 - val_categorical_accuracy: 0.3800\n",
            "Epoch 4/5\n",
            "6000/6000 [==============================] - 249s 42ms/step - loss: 0.0272 - binary_accuracy: 0.9928 - categorical_accuracy: 0.4493 - val_loss: 0.1165 - val_binary_accuracy: 0.9677 - val_categorical_accuracy: 0.3810\n",
            "Epoch 5/5\n",
            "6000/6000 [==============================] - 249s 41ms/step - loss: 0.0250 - binary_accuracy: 0.9936 - categorical_accuracy: 0.4483 - val_loss: 0.1181 - val_binary_accuracy: 0.9677 - val_categorical_accuracy: 0.3840\n"
          ],
          "name": "stdout"
        }
      ]
    },
    {
      "metadata": {
        "id": "DcmG6ZyDUEiA"
      },
      "cell_type": "code",
      "source": [
        "model.save(\"ftv3004096_3.h5\")"
      ],
      "execution_count": null,
      "outputs": []
    },
    {
      "metadata": {
        "id": "sSNe5b7mKvd-",
        "outputId": "c1857ab4-8a17-41b1-fa83-a0728447e138",
        "colab": {
          "base_uri": "https://localhost:8080/",
          "height": 187
        }
      },
      "cell_type": "code",
      "source": [
        "model,hist= train_vgg(tr_gen,te_gen,model)"
      ],
      "execution_count": null,
      "outputs": [
        {
          "output_type": "stream",
          "text": [
            "Epoch 1/5\n",
            "6000/6000 [==============================] - 252s 42ms/step - loss: 0.0230 - binary_accuracy: 0.9943 - categorical_accuracy: 0.4515 - val_loss: 0.1193 - val_binary_accuracy: 0.9677 - val_categorical_accuracy: 0.3810\n",
            "Epoch 2/5\n",
            "6000/6000 [==============================] - 250s 42ms/step - loss: 0.0211 - binary_accuracy: 0.9950 - categorical_accuracy: 0.4497 - val_loss: 0.1210 - val_binary_accuracy: 0.9677 - val_categorical_accuracy: 0.3840\n",
            "Epoch 3/5\n",
            "6000/6000 [==============================] - 249s 42ms/step - loss: 0.0195 - binary_accuracy: 0.9957 - categorical_accuracy: 0.4508 - val_loss: 0.1225 - val_binary_accuracy: 0.9677 - val_categorical_accuracy: 0.3860\n",
            "Epoch 4/5\n",
            "6000/6000 [==============================] - 249s 42ms/step - loss: 0.0179 - binary_accuracy: 0.9962 - categorical_accuracy: 0.4523 - val_loss: 0.1241 - val_binary_accuracy: 0.9677 - val_categorical_accuracy: 0.3840\n",
            "Epoch 5/5\n",
            "6000/6000 [==============================] - 249s 42ms/step - loss: 0.0166 - binary_accuracy: 0.9967 - categorical_accuracy: 0.4513 - val_loss: 0.1257 - val_binary_accuracy: 0.9677 - val_categorical_accuracy: 0.3800\n"
          ],
          "name": "stdout"
        }
      ]
    },
    {
      "metadata": {
        "id": "MmPzc6QzK13i"
      },
      "cell_type": "code",
      "source": [
        ""
      ],
      "execution_count": null,
      "outputs": []
    }
  ]
}